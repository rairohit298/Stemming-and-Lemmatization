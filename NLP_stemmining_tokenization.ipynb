{
 "cells": [
  {
   "cell_type": "markdown",
   "id": "ranging-wheat",
   "metadata": {},
   "source": [
    "<h1>1.1: Tokenization</h1>\n",
    "\n",
    "In Python tokenization basically refers to splitting up a larger body of text into smaller lines, words or even creating words for a non-English language. The various tokenization functions in-built into the nltk module itself and can be used in programs as shown below"
   ]
  },
  {
   "cell_type": "code",
   "execution_count": 24,
   "id": "charitable-reducing",
   "metadata": {},
   "outputs": [],
   "source": [
    "# Tokenization of paragraphs/sentences\n",
    "import nltk\n",
    "#nltk.download()\n",
    "\n",
    "paragraph = \"\"\"I have three visions for India. In 3000 years of our history, people from all over \n",
    "               the world have come and invaded us, captured our lands, conquered our minds. \n",
    "               From Alexander onwards, the Greeks, the Turks, the Moguls, the Portuguese, the British,\n",
    "               the French, the Dutch, all of them came and looted us, took over what was ours. \n",
    "               Yet we have not done this to any other nation. We have not conquered anyone. \n",
    "               We have not grabbed their land, their culture, \n",
    "               their history and tried to enforce our way of life on them. \n",
    "               Why? Because we respect the freedom of others.That is why my \n",
    "               first vision is that of freedom. I believe that India got its first vision of \n",
    "               this in 1857, when we started the War of Independence. It is this freedom that\n",
    "               we must protect and nurture and build on. If we are not free, no one will respect us.\n",
    "               My second vision for India’s development. For fifty years we have been a developing nation.\n",
    "               It is time we see ourselves as a developed nation. We are among the top 5 nations of the world\n",
    "               in terms of GDP. We have a 10 percent growth rate in most areas. Our poverty levels are falling.\n",
    "               Our achievements are being globally recognised today. Yet we lack the self-confidence to\n",
    "               see ourselves as a developed nation, self-reliant and self-assured. Isn’t this incorrect?\n",
    "               I have a third vision. India must stand up to the world. Because I believe that unless India \n",
    "               stands up to the world, no one will respect us. Only strength respects strength. We must be \n",
    "               strong not only as a military power but also as an economic power. Both must go hand-in-hand. \n",
    "               My good fortune was to have worked with three great minds. Dr. Vikram Sarabhai of the Dept. of \n",
    "               space, Professor Satish Dhawan, who succeeded him and Dr. Brahm Prakash, father of nuclear material.\n",
    "               I was lucky to have worked with all three of them closely and consider this the great opportunity of my life. \n",
    "               I see four milestones in my career\"\"\"\n",
    "               \n",
    "# Tokenizing sentences\n",
    "sentences = nltk.sent_tokenize(paragraph)  #return list of sentences\n",
    "\n",
    "# Tokenizing words\n",
    "words = nltk.word_tokenize(paragraph)  #return list of words\n"
   ]
  },
  {
   "cell_type": "code",
   "execution_count": 25,
   "id": "arctic-surveillance",
   "metadata": {},
   "outputs": [
    {
     "name": "stdout",
     "output_type": "stream",
     "text": [
      "31\n",
      "<class 'list'>\n"
     ]
    }
   ],
   "source": [
    "print(len(sentences))  # there are 31 sentences formed from the above paragraph after tokenization\n",
    "print(type(sentences)) "
   ]
  },
  {
   "cell_type": "code",
   "execution_count": 26,
   "id": "mathematical-submission",
   "metadata": {},
   "outputs": [
    {
     "name": "stdout",
     "output_type": "stream",
     "text": [
      "399\n",
      "<class 'list'>\n"
     ]
    }
   ],
   "source": [
    "print(len(words))  # 399 words are returned after performing word tokenization\n",
    "print(type(words))"
   ]
  },
  {
   "cell_type": "markdown",
   "id": "sensitive-guess",
   "metadata": {},
   "source": [
    "<h1>1.2 Stemming and Lemmatization</h1>\n",
    "\n",
    "Stemming and Lemmatization both generate the root form of the inflected words. The difference is that stem might not be an actual word whereas, lemma is an actual language word.\n",
    "\n",
    "Stemming follows an algorithm with steps to perform on the words which makes it faster. Whereas, in lemmatization, you used WordNet corpus and a corpus for stop words as well to produce lemma which makes it slower than stemming. You also had to define a parts-of-speech to obtain the correct lemma."
   ]
  },
  {
   "cell_type": "code",
   "execution_count": 4,
   "id": "existing-pleasure",
   "metadata": {},
   "outputs": [],
   "source": [
    "from nltk.stem import PorterStemmer\n",
    "from nltk.corpus import stopwords #importing stopwords\n",
    "\n",
    "\n",
    "steam_word =[]\n",
    "ps = PorterStemmer()\n",
    "for w in words:\n",
    "    steam_word.append(ps.stem(w))\n",
    "    #print(steam_word)\n",
    "\n",
    "for i in range(len(sentences)):\n",
    "    words = nltk.word_tokenize(sentences[i])\n",
    "    words = [ps.stem(w) for w in words if w  not in set(stopwords.words(\"english\"))]\n",
    "    sentences[i]=' '.join(words)"
   ]
  },
  {
   "cell_type": "code",
   "execution_count": 21,
   "id": "interpreted-sapphire",
   "metadata": {},
   "outputs": [
    {
     "name": "stdout",
     "output_type": "stream",
     "text": [
      "['I three vision india .', 'In 3000 year histori , peopl world come invad u , captur land , conquer mind .', 'alexand onward , greek , turk , mogul , portugues , british , french , dutch , came loot u , took .', 'yet done nation .', 'We conquer anyon .', 'We grab land , cultur , histori tri enforc way life .', 'whi ?', 'becaus respect freedom others.that first vision freedom .', 'I believ india got first vision 1857 , start war independ .', 'It freedom must protect nurtur build .', 'If free , one respect u .', 'My second vision india ’ develop .', 'fifti year develop nation .', 'It time see develop nation .', 'We among top 5 nation world term gdp .', 'We 10 percent growth rate area .', 'poverti level fall .', 'achiev global recognis today .', 'yet lack self-confid see develop nation , self-reli self-assur .', '’ incorrect ?', 'I third vision .', 'india must stand world .', 'becaus I believ unless india stand world , one respect u .', 'onli strength respect strength .', 'We must strong militari power also econom power .', 'must go hand-in-hand .', 'My good fortun work three great mind .', 'dr. vikram sarabhai dept .', 'space , professor satish dhawan , succeed dr. brahm prakash , father nuclear materi .', 'I lucki work three close consid great opportun life .', 'I see four mileston career']\n"
     ]
    }
   ],
   "source": [
    "print(sentences)"
   ]
  },
  {
   "cell_type": "code",
   "execution_count": 5,
   "id": "interracial-carbon",
   "metadata": {},
   "outputs": [
    {
     "name": "stdout",
     "output_type": "stream",
     "text": [
      "['I', 'have', 'three', 'vision', 'for', 'india', '.', 'In', '3000', 'year', 'of', 'our', 'histori', ',', 'peopl', 'from', 'all', 'over', 'the', 'world', 'have', 'come', 'and', 'invad', 'us', ',', 'captur', 'our', 'land', ',', 'conquer', 'our', 'mind', '.', 'from', 'alexand', 'onward', ',', 'the', 'greek', ',', 'the', 'turk', ',', 'the', 'mogul', ',', 'the', 'portugues', ',', 'the', 'british', ',', 'the', 'french', ',', 'the', 'dutch', ',', 'all', 'of', 'them', 'came', 'and', 'loot', 'us', ',', 'took', 'over', 'what', 'wa', 'our', '.', 'yet', 'we', 'have', 'not', 'done', 'thi', 'to', 'ani', 'other', 'nation', '.', 'We', 'have', 'not', 'conquer', 'anyon', '.', 'We', 'have', 'not', 'grab', 'their', 'land', ',', 'their', 'cultur', ',', 'their', 'histori', 'and', 'tri', 'to', 'enforc', 'our', 'way', 'of', 'life', 'on', 'them', '.', 'whi', '?', 'becaus', 'we', 'respect', 'the', 'freedom', 'of', 'others.that', 'is', 'whi', 'my', 'first', 'vision', 'is', 'that', 'of', 'freedom', '.', 'I', 'believ', 'that', 'india', 'got', 'it', 'first', 'vision', 'of', 'thi', 'in', '1857', ',', 'when', 'we', 'start', 'the', 'war', 'of', 'independ', '.', 'It', 'is', 'thi', 'freedom', 'that', 'we', 'must', 'protect', 'and', 'nurtur', 'and', 'build', 'on', '.', 'If', 'we', 'are', 'not', 'free', ',', 'no', 'one', 'will', 'respect', 'us', '.', 'My', 'second', 'vision', 'for', 'india', '’', 's', 'develop', '.', 'for', 'fifti', 'year', 'we', 'have', 'been', 'a', 'develop', 'nation', '.', 'It', 'is', 'time', 'we', 'see', 'ourselv', 'as', 'a', 'develop', 'nation', '.', 'We', 'are', 'among', 'the', 'top', '5', 'nation', 'of', 'the', 'world', 'in', 'term', 'of', 'gdp', '.', 'We', 'have', 'a', '10', 'percent', 'growth', 'rate', 'in', 'most', 'area', '.', 'our', 'poverti', 'level', 'are', 'fall', '.', 'our', 'achiev', 'are', 'be', 'global', 'recognis', 'today', '.', 'yet', 'we', 'lack', 'the', 'self-confid', 'to', 'see', 'ourselv', 'as', 'a', 'develop', 'nation', ',', 'self-reli', 'and', 'self-assur', '.', 'isn', '’', 't', 'thi', 'incorrect', '?', 'I', 'have', 'a', 'third', 'vision', '.', 'india', 'must', 'stand', 'up', 'to', 'the', 'world', '.', 'becaus', 'I', 'believ', 'that', 'unless', 'india', 'stand', 'up', 'to', 'the', 'world', ',', 'no', 'one', 'will', 'respect', 'us', '.', 'onli', 'strength', 'respect', 'strength', '.', 'We', 'must', 'be', 'strong', 'not', 'onli', 'as', 'a', 'militari', 'power', 'but', 'also', 'as', 'an', 'econom', 'power', '.', 'both', 'must', 'go', 'hand-in-hand', '.', 'My', 'good', 'fortun', 'wa', 'to', 'have', 'work', 'with', 'three', 'great', 'mind', '.', 'dr.', 'vikram', 'sarabhai', 'of', 'the', 'dept', '.', 'of', 'space', ',', 'professor', 'satish', 'dhawan', ',', 'who', 'succeed', 'him', 'and', 'dr.', 'brahm', 'prakash', ',', 'father', 'of', 'nuclear', 'materi', '.', 'I', 'wa', 'lucki', 'to', 'have', 'work', 'with', 'all', 'three', 'of', 'them', 'close', 'and', 'consid', 'thi', 'the', 'great', 'opportun', 'of', 'my', 'life', '.', 'I', 'see', 'four', 'mileston', 'in', 'my', 'career']\n",
      "399\n"
     ]
    }
   ],
   "source": [
    "print(steam_word)\n",
    "\n",
    "print(len(steam_word))"
   ]
  },
  {
   "cell_type": "code",
   "execution_count": 27,
   "id": "yellow-cemetery",
   "metadata": {},
   "outputs": [],
   "source": [
    "# prforming lemitization on above paragraph\n",
    "from nltk.stem import WordNetLemmatizer\n",
    "\n",
    "lm = WordNetLemmatizer()  # creating a object of WordNetLemmatizer class\n",
    "\n",
    "# Lemmatization\n",
    "for i in range(len(sentences)):\n",
    "    words = nltk.word_tokenize(sentences[i])\n",
    "    words = [lm.lemmatize(word) for word in words if word not in set(stopwords.words('english'))]\n",
    "    sentences[i] = ' '.join(words)      "
   ]
  },
  {
   "cell_type": "code",
   "execution_count": 28,
   "id": "collect-copying",
   "metadata": {},
   "outputs": [
    {
     "name": "stdout",
     "output_type": "stream",
     "text": [
      "['I three vision India .', 'In 3000 year history , people world come invaded u , captured land , conquered mind .', 'From Alexander onwards , Greeks , Turks , Moguls , Portuguese , British , French , Dutch , came looted u , took .', 'Yet done nation .', 'We conquered anyone .', 'We grabbed land , culture , history tried enforce way life .', 'Why ?', 'Because respect freedom others.That first vision freedom .', 'I believe India got first vision 1857 , started War Independence .', 'It freedom must protect nurture build .', 'If free , one respect u .', 'My second vision India ’ development .', 'For fifty year developing nation .', 'It time see developed nation .', 'We among top 5 nation world term GDP .', 'We 10 percent growth rate area .', 'Our poverty level falling .', 'Our achievement globally recognised today .', 'Yet lack self-confidence see developed nation , self-reliant self-assured .', 'Isn ’ incorrect ?', 'I third vision .', 'India must stand world .', 'Because I believe unless India stand world , one respect u .', 'Only strength respect strength .', 'We must strong military power also economic power .', 'Both must go hand-in-hand .', 'My good fortune worked three great mind .', 'Dr. Vikram Sarabhai Dept .', 'space , Professor Satish Dhawan , succeeded Dr. Brahm Prakash , father nuclear material .', 'I lucky worked three closely consider great opportunity life .', 'I see four milestone career']\n"
     ]
    }
   ],
   "source": [
    "print(sentences)"
   ]
  },
  {
   "cell_type": "code",
   "execution_count": null,
   "id": "persistent-recommendation",
   "metadata": {},
   "outputs": [],
   "source": []
  },
  {
   "cell_type": "code",
   "execution_count": null,
   "id": "raising-basics",
   "metadata": {},
   "outputs": [],
   "source": []
  },
  {
   "cell_type": "code",
   "execution_count": null,
   "id": "boolean-religion",
   "metadata": {},
   "outputs": [],
   "source": []
  }
 ],
 "metadata": {
  "kernelspec": {
   "display_name": "Python 3",
   "language": "python",
   "name": "python3"
  },
  "language_info": {
   "codemirror_mode": {
    "name": "ipython",
    "version": 3
   },
   "file_extension": ".py",
   "mimetype": "text/x-python",
   "name": "python",
   "nbconvert_exporter": "python",
   "pygments_lexer": "ipython3",
   "version": "3.7.6"
  }
 },
 "nbformat": 4,
 "nbformat_minor": 5
}
